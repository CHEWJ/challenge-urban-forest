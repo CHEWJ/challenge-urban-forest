{
 "cells": [
  {
   "cell_type": "code",
   "execution_count": 1,
   "metadata": {},
   "outputs": [
    {
     "name": "stdout",
     "output_type": "stream",
     "text": [
      "2.6311408499972285e-05\n",
      "1.159406999999211e-06\n",
      "1.3348710000033568e-06\n"
     ]
    }
   ],
   "source": [
    "# you could do with some help from the given types and functions ;)\n",
    "# below are some usage examples\n",
    "from polygon_utils import *\n",
    "\n",
    "# Carlton Gardens polygon\n",
    "carltonGardensPerimeterLoop = [\n",
    "    (144.970087, -37.800805), (144.974108, -37.801204), (144.973073, -37.807611), (144.968972, -37.807191)\n",
    "]\n",
    "carltonGardensLakeLoop = [\n",
    "    (144.969768, -37.805891), (144.970074, -37.806206), (144.969954, -37.806332), (144.969583, -37.806153),\n",
    "    (144.969689, -37.805985)\n",
    "]\n",
    "carltonGardensPolygon = [carltonGardensPerimeterLoop, carltonGardensLakeLoop]\n",
    "\n",
    "# Royal Exhibition Building polygon\n",
    "exhibitionBuildingPolygon = [\n",
    "    [\n",
    "        (144.972502, -37.804601), (144.972396, -37.805126), (144.970485, -37.804884), (144.970565, -37.804350),\n",
    "        (144.971369, -37.804443), (144.971420, -37.804191), (144.971804, -37.804228), (144.971760, -37.804487)\n",
    "    ]\n",
    "]\n",
    "\n",
    "# WeWork block polygon\n",
    "weWorkBlockPolygon = [\n",
    "    [\n",
    "        (144.963286, -37.814212), (144.964498, -37.813854), (144.964962, -37.814806), (144.963711, -37.815168)\n",
    "    ]\n",
    "]\n",
    "\n",
    "carltonGardensArea = multi_polygon_area([carltonGardensPolygon])\n",
    "print(carltonGardensArea)\n",
    "exhibitionBuildingArea = multi_polygon_area([exhibitionBuildingPolygon])\n",
    "print(exhibitionBuildingArea)\n",
    "weWorkBlockArea = multi_polygon_area([weWorkBlockPolygon])\n",
    "print(weWorkBlockArea)\n",
    "\n",
    "merge = merge_multi_polygons([exhibitionBuildingPolygon], [weWorkBlockPolygon])\n",
    "def approximately(a, b):\n",
    "    return abs(a - b) < 0.000000001\n",
    "assert approximately((exhibitionBuildingArea + weWorkBlockArea), multi_polygon_area(merge))\n",
    "\n",
    "assert may_intersect([carltonGardensPolygon], [exhibitionBuildingPolygon])\n",
    "assert intersection_area([carltonGardensPolygon], [exhibitionBuildingPolygon]) > 0.0\n",
    "\n",
    "assert not may_intersect([carltonGardensPolygon], [weWorkBlockPolygon])\n",
    "assert intersection_area([carltonGardensPolygon], [weWorkBlockPolygon]) == 0.0"
   ]
  },
  {
   "cell_type": "code",
   "execution_count": 1,
   "metadata": {},
   "outputs": [
    {
     "name": "stdout",
     "output_type": "stream",
     "text": [
      "Requirement already satisfied: Shapely==1.6.4.post2 in /home/ec2-user/anaconda3/envs/python3/lib/python3.6/site-packages (1.6.4.post2)\n",
      "\u001b[31msagemaker-pyspark 1.2.6 has requirement pyspark==2.3.2, but you'll have pyspark 2.3.1 which is incompatible.\u001b[0m\n",
      "\u001b[33mYou are using pip version 10.0.1, however version 19.3.1 is available.\n",
      "You should consider upgrading via the 'pip install --upgrade pip' command.\u001b[0m\n",
      "Requirement already satisfied: pyspark==2.3.1 in /home/ec2-user/anaconda3/envs/python3/lib/python3.6/site-packages (2.3.1)\n",
      "Requirement already satisfied: py4j==0.10.7 in /home/ec2-user/anaconda3/envs/python3/lib/python3.6/site-packages (from pyspark==2.3.1) (0.10.7)\n",
      "\u001b[31msagemaker-pyspark 1.2.6 has requirement pyspark==2.3.2, but you'll have pyspark 2.3.1 which is incompatible.\u001b[0m\n",
      "\u001b[33mYou are using pip version 10.0.1, however version 19.3.1 is available.\n",
      "You should consider upgrading via the 'pip install --upgrade pip' command.\u001b[0m\n"
     ]
    }
   ],
   "source": [
    "!pip install Shapely==1.6.4.post2\n",
    "!pip install pyspark==2.3.1"
   ]
  },
  {
   "cell_type": "code",
   "execution_count": 115,
   "metadata": {},
   "outputs": [],
   "source": [
    "import json\n",
    "import csv\n",
    "import re\n",
    "from pyspark import SparkContext\n",
    "from pyspark.sql import SQLContext, functions\n",
    "from pyspark.sql.session import SparkSession\n",
    "from pyspark.sql.types import StructType, StructField, FloatType, StringType, BooleanType, ArrayType\n",
    "from polygon_utils import *\n",
    "from shapely.geometry import shape, Point, mapping\n",
    "from shapely.wkt import loads, dumps"
   ]
  },
  {
   "cell_type": "code",
   "execution_count": 121,
   "metadata": {},
   "outputs": [],
   "source": [
    "# Roll-up polygons to suburban boundaries\n",
    "suburbs = {}\n",
    "with open('./melb_inner_2016.json') as json_file:\n",
    "    for line in json_file:\n",
    "        feat = json.loads(line)\n",
    "        suburb = feat['sa2_name16']\n",
    "        new_geom = shape(feat['geometry'])    \n",
    "        if not suburbs or suburb not in suburbs:\n",
    "            suburbs[suburb] = new_geom\n",
    "        else:\n",
    "            suburbs[suburb] = unary_union([suburbs[suburb], new_geom])\n",
    "\n",
    "melb_suburb_2016 = []\n",
    "for suburb, geom in suburbs.items():\n",
    "    #melb_suburb_2016.append({'suburb_name': suburb, 'poly': mapping(geom)['coordinates']})\n",
    "    melb_suburb_2016.append({'suburb_name': suburb, 'poly': dumps(geom)})"
   ]
  },
  {
   "cell_type": "code",
   "execution_count": 122,
   "metadata": {},
   "outputs": [],
   "source": [
    "with open('./melb_suburb_2016.json', 'w') as suburb_json:\n",
    "    json.dump(melb_suburb_2016, suburb_json)"
   ]
  },
  {
   "cell_type": "code",
   "execution_count": null,
   "metadata": {},
   "outputs": [],
   "source": [
    "sc = SparkContext()\n",
    "sc.addPyFile('polygon_utils.py')\n",
    "sqlc = SQLContext(sc)"
   ]
  },
  {
   "cell_type": "code",
   "execution_count": 142,
   "metadata": {},
   "outputs": [],
   "source": [
    "# Load suburban polygons\n",
    "sa2 = sqlc.read.json('./melb_suburb_2016.json')"
   ]
  },
  {
   "cell_type": "code",
   "execution_count": 87,
   "metadata": {},
   "outputs": [],
   "source": [
    "# Load urban forests\n",
    "csv_schema = StructType([\n",
    "    StructField('area', FloatType(), nullable = False),\n",
    "    StructField('the_geom', StringType(), nullable = False)\n",
    "])\n",
    "urban_forest = sqlc.read.csv('./melb_urban_forest_2016.txt/part-0000[0-5]', schema = csv_schema, sep=' ')"
   ]
  },
  {
   "cell_type": "code",
   "execution_count": 133,
   "metadata": {},
   "outputs": [],
   "source": [
    "# Fix up the_geom as proper WKT\n",
    "#insert_comma = re.compile('\\s([^\\s]*)\\s([^\\s]*)')\n",
    "insert_comma = re.compile('(\\s[^\\s]*)\\s')\n",
    "def insert_commas(the_geom):\n",
    "    gtype, lonlat = the_geom.split(' ', 1)\n",
    "    gtype = gtype.strip()\n",
    "    #lonlat = insert_comma.sub(r' (\\1,\\2)', ' ' + lonlat.strip()).strip()\n",
    "    lonlat = insert_comma.sub(r'\\1, ', lonlat.strip())\n",
    "    #return f'{lonlat}'\n",
    "    return f'{gtype} {lonlat}'\n",
    "\n",
    "urban_forest_fixed = urban_forest.withColumn('new_geom', functions.udf(insert_commas, StringType())('the_geom'))\\\n",
    ".drop('the_geom').withColumnRenamed('new_geom', 'the_geom').drop('area')"
   ]
  },
  {
   "cell_type": "code",
   "execution_count": 145,
   "metadata": {},
   "outputs": [],
   "source": [
    "def get_rect(poly):\n",
    "    return loads(poly).bounds\n",
    "\n",
    "get_rect_udf = functions.udf(get_rect, ArrayType(FloatType()))\n",
    "\n",
    "urban_forest_fixed = urban_forest_fixed.withColumn('urban_forest_rect', get_rect_udf('the_geom'))\n",
    "sa2 = sa2.withColumn('sa2_rect', get_rect_udf('poly'))"
   ]
  },
  {
   "cell_type": "code",
   "execution_count": 172,
   "metadata": {},
   "outputs": [],
   "source": [
    "def get_area(poly):\n",
    "    return loads(poly).area\n",
    "\n",
    "get_area_udf = functions.udf(get_area, FloatType())\n",
    "\n",
    "sa2 = sa2.withColumn('sa2_area', get_area_udf('poly'))"
   ]
  },
  {
   "cell_type": "code",
   "execution_count": 175,
   "metadata": {},
   "outputs": [],
   "source": [
    "def may_intersect(rect1, rect2):\n",
    "    min_lon_1, min_lat_1, max_lon_1, max_lat_1 = rect1\n",
    "    min_lon_2, min_lat_2, max_lon_2, max_lat_2 = rect2\n",
    "    return min_lat_1 <= max_lat_2 and \\\n",
    "           max_lon_1 >= min_lon_2 and \\\n",
    "           max_lat_1 >= min_lat_2 and \\\n",
    "           min_lon_1 <= max_lon_2\n",
    "\n",
    "sa2_p1 = sa2.repartition(1)\n",
    "urban_forest_p10 = urban_forest_fixed.repartition(10)\n",
    "urban_forest_in_sa2 = sa2_p1.crossJoin(urban_forest_p10).where(functions.udf(may_intersect, BooleanType())\\\n",
    "                                                  (sa2_p1.sa2_rect, urban_forest_p10.urban_forest_rect))"
   ]
  },
  {
   "cell_type": "code",
   "execution_count": 176,
   "metadata": {},
   "outputs": [],
   "source": [
    "urban_forest_in_sa2 = urban_forest_in_sa2.drop('sa2_rect').drop('urban_forest_rect')"
   ]
  },
  {
   "cell_type": "code",
   "execution_count": 197,
   "metadata": {},
   "outputs": [],
   "source": [
    "def get_veg_rate(sa2_geom, urban_forest_geom, sa2_area):\n",
    "    return (loads(sa2_geom).intersection(loads(urban_forest_geom))).area / sa2_area\n",
    "\n",
    "suburban_vegetation_rate = urban_forest_in_sa2.withColumn('urban_forest_%_contribution_to_sa2',\\\n",
    "                                                     functions.udf(get_veg_rate, FloatType())\\\n",
    "                                                     ('poly', 'the_geom', 'sa2_area'))\\\n",
    ".drop('poly').drop('the_geom').drop('sa2_area')"
   ]
  },
  {
   "cell_type": "code",
   "execution_count": null,
   "metadata": {},
   "outputs": [],
   "source": [
    "suburban_vegetation_rate.head()"
   ]
  },
  {
   "cell_type": "code",
   "execution_count": 198,
   "metadata": {},
   "outputs": [
    {
     "ename": "AnalysisException",
     "evalue": "\"cannot resolve '`urban_forest_%_contribution_to_sa2`' given input columns: [suburb_name, sum(urban_forest_%_contribution_to_sa2)];;\\n'Sort ['urban_forest_%_contribution_to_sa2 DESC NULLS LAST], true\\n+- AnalysisBarrier\\n      +- Aggregate [suburb_name#378], [suburb_name#378, sum(cast(urban_forest_%_contribution_to_sa2#706 as double)) AS sum(urban_forest_%_contribution_to_sa2)#729]\\n         +- Project [suburb_name#378, urban_forest_contribution_to_sa2#646, urban_forest_%_contribution_to_sa2#706]\\n            +- Project [suburb_name#378, sa2_area#501, urban_forest_contribution_to_sa2#646, urban_forest_%_contribution_to_sa2#706]\\n               +- Project [suburb_name#378, sa2_area#501, the_geom#334, urban_forest_contribution_to_sa2#646, urban_forest_%_contribution_to_sa2#706]\\n                  +- Project [poly#377, suburb_name#378, sa2_area#501, the_geom#334, urban_forest_contribution_to_sa2#646, get_veg_rate(poly#377, the_geom#334, sa2_area#501) AS urban_forest_%_contribution_to_sa2#706]\\n                     +- Project [poly#377, suburb_name#378, sa2_area#501, the_geom#334, urban_forest_contribution_to_sa2#646, get_veg_rate(poly#377, the_geom#334, sa2_area#501) AS urban_forest_%_contribution_to_sa2#689]\\n                        +- Project [poly#377, suburb_name#378, sa2_area#501, the_geom#334, get_veg_in_sa2(poly#377, the_geom#334) AS urban_forest_contribution_to_sa2#646]\\n                           +- Project [poly#377, suburb_name#378, sa2_area#501, the_geom#334, get_veg_in_sa2(poly#377, the_geom#334) AS urban_forest_contribution_to_sa2#630]\\n                              +- Project [poly#377, suburb_name#378, sa2_area#501, the_geom#334]\\n                                 +- Project [poly#377, suburb_name#378, sa2_area#501, the_geom#334, get_veg_rate(poly#377, the_geom#334) AS urban_forest_%_contribution_to_sa2#592]\\n                                    +- Project [poly#377, suburb_name#378, sa2_area#501, the_geom#334, get_veg_rate(poly#377, the_geom#334, sa2_area#501) AS urban_forest_%_contribution_to_sa2#546]\\n                                       +- Project [poly#377, suburb_name#378, sa2_area#501, the_geom#334, get_veg_rate(poly#377, the_geom#334, sa2_area#501) AS urban_forest_%_contribution_to_sa2#530]\\n                                          +- Project [poly#377, suburb_name#378, sa2_area#501, the_geom#334]\\n                                             +- Project [poly#377, suburb_name#378, sa2_area#501, the_geom#334, urban_forest_rect#392]\\n                                                +- Filter may_intersect(sa2_rect#396, urban_forest_rect#392)\\n                                                   +- Join Cross\\n                                                      :- Repartition 1, true\\n                                                      :  +- Project [poly#377, suburb_name#378, sa2_rect#396, get_area(poly#377) AS sa2_area#501]\\n                                                      :     +- Project [poly#377, suburb_name#378, sa2_rect#396, get_rect(poly#377) AS sa2_area#491]\\n                                                      :        +- Project [poly#377, suburb_name#378, sa2_rect#396, get_area(poly#377) AS sa2_area#481]\\n                                                      :           +- Project [poly#377, suburb_name#378, sa2_rect#396, get_area(poly#377) AS sa2_area#466]\\n                                                      :              +- Project [poly#377, suburb_name#378, sa2_rect#396, get_area(poly#377) AS sa2_area#443]\\n                                                      :                 +- Project [poly#377, suburb_name#378, sa2_rect#396]\\n                                                      :                    +- Project [poly#377, suburb_name#378, sa2_bound#384, get_rect(poly#377) AS sa2_rect#396]\\n                                                      :                       +- Project [poly#377, suburb_name#378, get_rect(poly#377) AS sa2_bound#384]\\n                                                      :                          +- Relation[poly#377,suburb_name#378] json\\n                                                      +- Repartition 10, true\\n                                                         +- Project [the_geom#334, urban_forest_rect#392]\\n                                                            +- Project [the_geom#334, urban_forest_bound#348, get_rect(the_geom#334) AS urban_forest_rect#392]\\n                                                               +- Project [the_geom#334, get_rect(the_geom#334) AS urban_forest_bound#348]\\n                                                                  +- Project [the_geom#334, get_rect(the_geom#334) AS urban_forest_bound#341]\\n                                                                     +- Project [the_geom#334]\\n                                                                        +- Project [area#101, new_geom#328 AS the_geom#334]\\n                                                                           +- Project [area#101, new_geom#328]\\n                                                                              +- Project [area#101, the_geom#102, insert_commas(the_geom#102) AS new_geom#328]\\n                                                                                 +- Relation[area#101,the_geom#102] csv\\n\"",
     "output_type": "error",
     "traceback": [
      "\u001b[0;31m---------------------------------------------------------------------------\u001b[0m",
      "\u001b[0;31mPy4JJavaError\u001b[0m                             Traceback (most recent call last)",
      "\u001b[0;32m~/anaconda3/envs/python3/lib/python3.6/site-packages/pyspark/sql/utils.py\u001b[0m in \u001b[0;36mdeco\u001b[0;34m(*a, **kw)\u001b[0m\n\u001b[1;32m     62\u001b[0m         \u001b[0;32mtry\u001b[0m\u001b[0;34m:\u001b[0m\u001b[0;34m\u001b[0m\u001b[0m\n\u001b[0;32m---> 63\u001b[0;31m             \u001b[0;32mreturn\u001b[0m \u001b[0mf\u001b[0m\u001b[0;34m(\u001b[0m\u001b[0;34m*\u001b[0m\u001b[0ma\u001b[0m\u001b[0;34m,\u001b[0m \u001b[0;34m**\u001b[0m\u001b[0mkw\u001b[0m\u001b[0;34m)\u001b[0m\u001b[0;34m\u001b[0m\u001b[0m\n\u001b[0m\u001b[1;32m     64\u001b[0m         \u001b[0;32mexcept\u001b[0m \u001b[0mpy4j\u001b[0m\u001b[0;34m.\u001b[0m\u001b[0mprotocol\u001b[0m\u001b[0;34m.\u001b[0m\u001b[0mPy4JJavaError\u001b[0m \u001b[0;32mas\u001b[0m \u001b[0me\u001b[0m\u001b[0;34m:\u001b[0m\u001b[0;34m\u001b[0m\u001b[0m\n",
      "\u001b[0;32m~/anaconda3/envs/python3/lib/python3.6/site-packages/py4j/protocol.py\u001b[0m in \u001b[0;36mget_return_value\u001b[0;34m(answer, gateway_client, target_id, name)\u001b[0m\n\u001b[1;32m    327\u001b[0m                     \u001b[0;34m\"An error occurred while calling {0}{1}{2}.\\n\"\u001b[0m\u001b[0;34m.\u001b[0m\u001b[0;34m\u001b[0m\u001b[0m\n\u001b[0;32m--> 328\u001b[0;31m                     format(target_id, \".\", name), value)\n\u001b[0m\u001b[1;32m    329\u001b[0m             \u001b[0;32melse\u001b[0m\u001b[0;34m:\u001b[0m\u001b[0;34m\u001b[0m\u001b[0m\n",
      "\u001b[0;31mPy4JJavaError\u001b[0m: An error occurred while calling o1546.sort.\n: org.apache.spark.sql.AnalysisException: cannot resolve '`urban_forest_%_contribution_to_sa2`' given input columns: [suburb_name, sum(urban_forest_%_contribution_to_sa2)];;\n'Sort ['urban_forest_%_contribution_to_sa2 DESC NULLS LAST], true\n+- AnalysisBarrier\n      +- Aggregate [suburb_name#378], [suburb_name#378, sum(cast(urban_forest_%_contribution_to_sa2#706 as double)) AS sum(urban_forest_%_contribution_to_sa2)#729]\n         +- Project [suburb_name#378, urban_forest_contribution_to_sa2#646, urban_forest_%_contribution_to_sa2#706]\n            +- Project [suburb_name#378, sa2_area#501, urban_forest_contribution_to_sa2#646, urban_forest_%_contribution_to_sa2#706]\n               +- Project [suburb_name#378, sa2_area#501, the_geom#334, urban_forest_contribution_to_sa2#646, urban_forest_%_contribution_to_sa2#706]\n                  +- Project [poly#377, suburb_name#378, sa2_area#501, the_geom#334, urban_forest_contribution_to_sa2#646, get_veg_rate(poly#377, the_geom#334, sa2_area#501) AS urban_forest_%_contribution_to_sa2#706]\n                     +- Project [poly#377, suburb_name#378, sa2_area#501, the_geom#334, urban_forest_contribution_to_sa2#646, get_veg_rate(poly#377, the_geom#334, sa2_area#501) AS urban_forest_%_contribution_to_sa2#689]\n                        +- Project [poly#377, suburb_name#378, sa2_area#501, the_geom#334, get_veg_in_sa2(poly#377, the_geom#334) AS urban_forest_contribution_to_sa2#646]\n                           +- Project [poly#377, suburb_name#378, sa2_area#501, the_geom#334, get_veg_in_sa2(poly#377, the_geom#334) AS urban_forest_contribution_to_sa2#630]\n                              +- Project [poly#377, suburb_name#378, sa2_area#501, the_geom#334]\n                                 +- Project [poly#377, suburb_name#378, sa2_area#501, the_geom#334, get_veg_rate(poly#377, the_geom#334) AS urban_forest_%_contribution_to_sa2#592]\n                                    +- Project [poly#377, suburb_name#378, sa2_area#501, the_geom#334, get_veg_rate(poly#377, the_geom#334, sa2_area#501) AS urban_forest_%_contribution_to_sa2#546]\n                                       +- Project [poly#377, suburb_name#378, sa2_area#501, the_geom#334, get_veg_rate(poly#377, the_geom#334, sa2_area#501) AS urban_forest_%_contribution_to_sa2#530]\n                                          +- Project [poly#377, suburb_name#378, sa2_area#501, the_geom#334]\n                                             +- Project [poly#377, suburb_name#378, sa2_area#501, the_geom#334, urban_forest_rect#392]\n                                                +- Filter may_intersect(sa2_rect#396, urban_forest_rect#392)\n                                                   +- Join Cross\n                                                      :- Repartition 1, true\n                                                      :  +- Project [poly#377, suburb_name#378, sa2_rect#396, get_area(poly#377) AS sa2_area#501]\n                                                      :     +- Project [poly#377, suburb_name#378, sa2_rect#396, get_rect(poly#377) AS sa2_area#491]\n                                                      :        +- Project [poly#377, suburb_name#378, sa2_rect#396, get_area(poly#377) AS sa2_area#481]\n                                                      :           +- Project [poly#377, suburb_name#378, sa2_rect#396, get_area(poly#377) AS sa2_area#466]\n                                                      :              +- Project [poly#377, suburb_name#378, sa2_rect#396, get_area(poly#377) AS sa2_area#443]\n                                                      :                 +- Project [poly#377, suburb_name#378, sa2_rect#396]\n                                                      :                    +- Project [poly#377, suburb_name#378, sa2_bound#384, get_rect(poly#377) AS sa2_rect#396]\n                                                      :                       +- Project [poly#377, suburb_name#378, get_rect(poly#377) AS sa2_bound#384]\n                                                      :                          +- Relation[poly#377,suburb_name#378] json\n                                                      +- Repartition 10, true\n                                                         +- Project [the_geom#334, urban_forest_rect#392]\n                                                            +- Project [the_geom#334, urban_forest_bound#348, get_rect(the_geom#334) AS urban_forest_rect#392]\n                                                               +- Project [the_geom#334, get_rect(the_geom#334) AS urban_forest_bound#348]\n                                                                  +- Project [the_geom#334, get_rect(the_geom#334) AS urban_forest_bound#341]\n                                                                     +- Project [the_geom#334]\n                                                                        +- Project [area#101, new_geom#328 AS the_geom#334]\n                                                                           +- Project [area#101, new_geom#328]\n                                                                              +- Project [area#101, the_geom#102, insert_commas(the_geom#102) AS new_geom#328]\n                                                                                 +- Relation[area#101,the_geom#102] csv\n\n\tat org.apache.spark.sql.catalyst.analysis.package$AnalysisErrorAt.failAnalysis(package.scala:42)\n\tat org.apache.spark.sql.catalyst.analysis.CheckAnalysis$$anonfun$checkAnalysis$1$$anonfun$apply$2.applyOrElse(CheckAnalysis.scala:88)\n\tat org.apache.spark.sql.catalyst.analysis.CheckAnalysis$$anonfun$checkAnalysis$1$$anonfun$apply$2.applyOrElse(CheckAnalysis.scala:85)\n\tat org.apache.spark.sql.catalyst.trees.TreeNode$$anonfun$transformUp$1.apply(TreeNode.scala:289)\n\tat org.apache.spark.sql.catalyst.trees.TreeNode$$anonfun$transformUp$1.apply(TreeNode.scala:289)\n\tat org.apache.spark.sql.catalyst.trees.CurrentOrigin$.withOrigin(TreeNode.scala:70)\n\tat org.apache.spark.sql.catalyst.trees.TreeNode.transformUp(TreeNode.scala:288)\n\tat org.apache.spark.sql.catalyst.trees.TreeNode$$anonfun$3.apply(TreeNode.scala:286)\n\tat org.apache.spark.sql.catalyst.trees.TreeNode$$anonfun$3.apply(TreeNode.scala:286)\n\tat org.apache.spark.sql.catalyst.trees.TreeNode$$anonfun$4.apply(TreeNode.scala:306)\n\tat org.apache.spark.sql.catalyst.trees.TreeNode.mapProductIterator(TreeNode.scala:187)\n\tat org.apache.spark.sql.catalyst.trees.TreeNode.mapChildren(TreeNode.scala:304)\n\tat org.apache.spark.sql.catalyst.trees.TreeNode.transformUp(TreeNode.scala:286)\n\tat org.apache.spark.sql.catalyst.plans.QueryPlan$$anonfun$transformExpressionsUp$1.apply(QueryPlan.scala:95)\n\tat org.apache.spark.sql.catalyst.plans.QueryPlan$$anonfun$transformExpressionsUp$1.apply(QueryPlan.scala:95)\n\tat org.apache.spark.sql.catalyst.plans.QueryPlan$$anonfun$1.apply(QueryPlan.scala:107)\n\tat org.apache.spark.sql.catalyst.plans.QueryPlan$$anonfun$1.apply(QueryPlan.scala:107)\n\tat org.apache.spark.sql.catalyst.trees.CurrentOrigin$.withOrigin(TreeNode.scala:70)\n\tat org.apache.spark.sql.catalyst.plans.QueryPlan.transformExpression$1(QueryPlan.scala:106)\n\tat org.apache.spark.sql.catalyst.plans.QueryPlan.org$apache$spark$sql$catalyst$plans$QueryPlan$$recursiveTransform$1(QueryPlan.scala:118)\n\tat org.apache.spark.sql.catalyst.plans.QueryPlan$$anonfun$org$apache$spark$sql$catalyst$plans$QueryPlan$$recursiveTransform$1$1.apply(QueryPlan.scala:122)\n\tat scala.collection.TraversableLike$$anonfun$map$1.apply(TraversableLike.scala:234)\n\tat scala.collection.TraversableLike$$anonfun$map$1.apply(TraversableLike.scala:234)\n\tat scala.collection.mutable.ResizableArray$class.foreach(ResizableArray.scala:59)\n\tat scala.collection.mutable.ArrayBuffer.foreach(ArrayBuffer.scala:48)\n\tat scala.collection.TraversableLike$class.map(TraversableLike.scala:234)\n\tat scala.collection.AbstractTraversable.map(Traversable.scala:104)\n\tat org.apache.spark.sql.catalyst.plans.QueryPlan.org$apache$spark$sql$catalyst$plans$QueryPlan$$recursiveTransform$1(QueryPlan.scala:122)\n\tat org.apache.spark.sql.catalyst.plans.QueryPlan$$anonfun$2.apply(QueryPlan.scala:127)\n\tat org.apache.spark.sql.catalyst.trees.TreeNode.mapProductIterator(TreeNode.scala:187)\n\tat org.apache.spark.sql.catalyst.plans.QueryPlan.mapExpressions(QueryPlan.scala:127)\n\tat org.apache.spark.sql.catalyst.plans.QueryPlan.transformExpressionsUp(QueryPlan.scala:95)\n\tat org.apache.spark.sql.catalyst.analysis.CheckAnalysis$$anonfun$checkAnalysis$1.apply(CheckAnalysis.scala:85)\n\tat org.apache.spark.sql.catalyst.analysis.CheckAnalysis$$anonfun$checkAnalysis$1.apply(CheckAnalysis.scala:80)\n\tat org.apache.spark.sql.catalyst.trees.TreeNode.foreachUp(TreeNode.scala:127)\n\tat org.apache.spark.sql.catalyst.analysis.CheckAnalysis$class.checkAnalysis(CheckAnalysis.scala:80)\n\tat org.apache.spark.sql.catalyst.analysis.Analyzer.checkAnalysis(Analyzer.scala:92)\n\tat org.apache.spark.sql.catalyst.analysis.Analyzer.executeAndCheck(Analyzer.scala:105)\n\tat org.apache.spark.sql.execution.QueryExecution.analyzed$lzycompute(QueryExecution.scala:57)\n\tat org.apache.spark.sql.execution.QueryExecution.analyzed(QueryExecution.scala:55)\n\tat org.apache.spark.sql.execution.QueryExecution.assertAnalyzed(QueryExecution.scala:47)\n\tat org.apache.spark.sql.Dataset.<init>(Dataset.scala:172)\n\tat org.apache.spark.sql.Dataset.<init>(Dataset.scala:178)\n\tat org.apache.spark.sql.Dataset$.apply(Dataset.scala:65)\n\tat org.apache.spark.sql.Dataset.withTypedPlan(Dataset.scala:3301)\n\tat org.apache.spark.sql.Dataset.sortInternal(Dataset.scala:3289)\n\tat org.apache.spark.sql.Dataset.sort(Dataset.scala:1177)\n\tat sun.reflect.NativeMethodAccessorImpl.invoke0(Native Method)\n\tat sun.reflect.NativeMethodAccessorImpl.invoke(NativeMethodAccessorImpl.java:62)\n\tat sun.reflect.DelegatingMethodAccessorImpl.invoke(DelegatingMethodAccessorImpl.java:43)\n\tat java.lang.reflect.Method.invoke(Method.java:498)\n\tat py4j.reflection.MethodInvoker.invoke(MethodInvoker.java:244)\n\tat py4j.reflection.ReflectionEngine.invoke(ReflectionEngine.java:357)\n\tat py4j.Gateway.invoke(Gateway.java:282)\n\tat py4j.commands.AbstractCommand.invokeMethod(AbstractCommand.java:132)\n\tat py4j.commands.CallCommand.execute(CallCommand.java:79)\n\tat py4j.GatewayConnection.run(GatewayConnection.java:238)\n\tat java.lang.Thread.run(Thread.java:745)\n",
      "\nDuring handling of the above exception, another exception occurred:\n",
      "\u001b[0;31mAnalysisException\u001b[0m                         Traceback (most recent call last)",
      "\u001b[0;32m<ipython-input-198-4536c1e1fafa>\u001b[0m in \u001b[0;36m<module>\u001b[0;34m()\u001b[0m\n\u001b[1;32m      1\u001b[0m \u001b[0manswer\u001b[0m \u001b[0;34m=\u001b[0m \u001b[0msuburban_vegetation_rate\u001b[0m\u001b[0;34m.\u001b[0m\u001b[0mgroupBy\u001b[0m\u001b[0;34m(\u001b[0m\u001b[0;34m'suburb_name'\u001b[0m\u001b[0;34m)\u001b[0m\u001b[0;34m.\u001b[0m\u001b[0msum\u001b[0m\u001b[0;34m(\u001b[0m\u001b[0;34m'urban_forest_%_contribution_to_sa2'\u001b[0m\u001b[0;34m)\u001b[0m\u001b[0;34m\u001b[0m\u001b[0m\n\u001b[0;32m----> 2\u001b[0;31m \u001b[0manswer\u001b[0m\u001b[0;34m.\u001b[0m\u001b[0morderBy\u001b[0m\u001b[0;34m(\u001b[0m\u001b[0;34m'urban_forest_%_contribution_to_sa2'\u001b[0m\u001b[0;34m,\u001b[0m \u001b[0mascending\u001b[0m\u001b[0;34m=\u001b[0m\u001b[0;32mFalse\u001b[0m\u001b[0;34m)\u001b[0m\u001b[0;34m.\u001b[0m\u001b[0mshow\u001b[0m\u001b[0;34m(\u001b[0m\u001b[0;34m)\u001b[0m\u001b[0;34m\u001b[0m\u001b[0m\n\u001b[0m",
      "\u001b[0;32m~/anaconda3/envs/python3/lib/python3.6/site-packages/pyspark/sql/dataframe.py\u001b[0m in \u001b[0;36msort\u001b[0;34m(self, *cols, **kwargs)\u001b[0m\n\u001b[1;32m    976\u001b[0m         \u001b[0;34m[\u001b[0m\u001b[0mRow\u001b[0m\u001b[0;34m(\u001b[0m\u001b[0mage\u001b[0m\u001b[0;34m=\u001b[0m\u001b[0;36m5\u001b[0m\u001b[0;34m,\u001b[0m \u001b[0mname\u001b[0m\u001b[0;34m=\u001b[0m\u001b[0;34mu'Bob'\u001b[0m\u001b[0;34m)\u001b[0m\u001b[0;34m,\u001b[0m \u001b[0mRow\u001b[0m\u001b[0;34m(\u001b[0m\u001b[0mage\u001b[0m\u001b[0;34m=\u001b[0m\u001b[0;36m2\u001b[0m\u001b[0;34m,\u001b[0m \u001b[0mname\u001b[0m\u001b[0;34m=\u001b[0m\u001b[0;34mu'Alice'\u001b[0m\u001b[0;34m)\u001b[0m\u001b[0;34m]\u001b[0m\u001b[0;34m\u001b[0m\u001b[0m\n\u001b[1;32m    977\u001b[0m         \"\"\"\n\u001b[0;32m--> 978\u001b[0;31m         \u001b[0mjdf\u001b[0m \u001b[0;34m=\u001b[0m \u001b[0mself\u001b[0m\u001b[0;34m.\u001b[0m\u001b[0m_jdf\u001b[0m\u001b[0;34m.\u001b[0m\u001b[0msort\u001b[0m\u001b[0;34m(\u001b[0m\u001b[0mself\u001b[0m\u001b[0;34m.\u001b[0m\u001b[0m_sort_cols\u001b[0m\u001b[0;34m(\u001b[0m\u001b[0mcols\u001b[0m\u001b[0;34m,\u001b[0m \u001b[0mkwargs\u001b[0m\u001b[0;34m)\u001b[0m\u001b[0;34m)\u001b[0m\u001b[0;34m\u001b[0m\u001b[0m\n\u001b[0m\u001b[1;32m    979\u001b[0m         \u001b[0;32mreturn\u001b[0m \u001b[0mDataFrame\u001b[0m\u001b[0;34m(\u001b[0m\u001b[0mjdf\u001b[0m\u001b[0;34m,\u001b[0m \u001b[0mself\u001b[0m\u001b[0;34m.\u001b[0m\u001b[0msql_ctx\u001b[0m\u001b[0;34m)\u001b[0m\u001b[0;34m\u001b[0m\u001b[0m\n\u001b[1;32m    980\u001b[0m \u001b[0;34m\u001b[0m\u001b[0m\n",
      "\u001b[0;32m~/anaconda3/envs/python3/lib/python3.6/site-packages/py4j/java_gateway.py\u001b[0m in \u001b[0;36m__call__\u001b[0;34m(self, *args)\u001b[0m\n\u001b[1;32m   1255\u001b[0m         \u001b[0manswer\u001b[0m \u001b[0;34m=\u001b[0m \u001b[0mself\u001b[0m\u001b[0;34m.\u001b[0m\u001b[0mgateway_client\u001b[0m\u001b[0;34m.\u001b[0m\u001b[0msend_command\u001b[0m\u001b[0;34m(\u001b[0m\u001b[0mcommand\u001b[0m\u001b[0;34m)\u001b[0m\u001b[0;34m\u001b[0m\u001b[0m\n\u001b[1;32m   1256\u001b[0m         return_value = get_return_value(\n\u001b[0;32m-> 1257\u001b[0;31m             answer, self.gateway_client, self.target_id, self.name)\n\u001b[0m\u001b[1;32m   1258\u001b[0m \u001b[0;34m\u001b[0m\u001b[0m\n\u001b[1;32m   1259\u001b[0m         \u001b[0;32mfor\u001b[0m \u001b[0mtemp_arg\u001b[0m \u001b[0;32min\u001b[0m \u001b[0mtemp_args\u001b[0m\u001b[0;34m:\u001b[0m\u001b[0;34m\u001b[0m\u001b[0m\n",
      "\u001b[0;32m~/anaconda3/envs/python3/lib/python3.6/site-packages/pyspark/sql/utils.py\u001b[0m in \u001b[0;36mdeco\u001b[0;34m(*a, **kw)\u001b[0m\n\u001b[1;32m     67\u001b[0m                                              e.java_exception.getStackTrace()))\n\u001b[1;32m     68\u001b[0m             \u001b[0;32mif\u001b[0m \u001b[0ms\u001b[0m\u001b[0;34m.\u001b[0m\u001b[0mstartswith\u001b[0m\u001b[0;34m(\u001b[0m\u001b[0;34m'org.apache.spark.sql.AnalysisException: '\u001b[0m\u001b[0;34m)\u001b[0m\u001b[0;34m:\u001b[0m\u001b[0;34m\u001b[0m\u001b[0m\n\u001b[0;32m---> 69\u001b[0;31m                 \u001b[0;32mraise\u001b[0m \u001b[0mAnalysisException\u001b[0m\u001b[0;34m(\u001b[0m\u001b[0ms\u001b[0m\u001b[0;34m.\u001b[0m\u001b[0msplit\u001b[0m\u001b[0;34m(\u001b[0m\u001b[0;34m': '\u001b[0m\u001b[0;34m,\u001b[0m \u001b[0;36m1\u001b[0m\u001b[0;34m)\u001b[0m\u001b[0;34m[\u001b[0m\u001b[0;36m1\u001b[0m\u001b[0;34m]\u001b[0m\u001b[0;34m,\u001b[0m \u001b[0mstackTrace\u001b[0m\u001b[0;34m)\u001b[0m\u001b[0;34m\u001b[0m\u001b[0m\n\u001b[0m\u001b[1;32m     70\u001b[0m             \u001b[0;32mif\u001b[0m \u001b[0ms\u001b[0m\u001b[0;34m.\u001b[0m\u001b[0mstartswith\u001b[0m\u001b[0;34m(\u001b[0m\u001b[0;34m'org.apache.spark.sql.catalyst.analysis'\u001b[0m\u001b[0;34m)\u001b[0m\u001b[0;34m:\u001b[0m\u001b[0;34m\u001b[0m\u001b[0m\n\u001b[1;32m     71\u001b[0m                 \u001b[0;32mraise\u001b[0m \u001b[0mAnalysisException\u001b[0m\u001b[0;34m(\u001b[0m\u001b[0ms\u001b[0m\u001b[0;34m.\u001b[0m\u001b[0msplit\u001b[0m\u001b[0;34m(\u001b[0m\u001b[0;34m': '\u001b[0m\u001b[0;34m,\u001b[0m \u001b[0;36m1\u001b[0m\u001b[0;34m)\u001b[0m\u001b[0;34m[\u001b[0m\u001b[0;36m1\u001b[0m\u001b[0;34m]\u001b[0m\u001b[0;34m,\u001b[0m \u001b[0mstackTrace\u001b[0m\u001b[0;34m)\u001b[0m\u001b[0;34m\u001b[0m\u001b[0m\n",
      "\u001b[0;31mAnalysisException\u001b[0m: \"cannot resolve '`urban_forest_%_contribution_to_sa2`' given input columns: [suburb_name, sum(urban_forest_%_contribution_to_sa2)];;\\n'Sort ['urban_forest_%_contribution_to_sa2 DESC NULLS LAST], true\\n+- AnalysisBarrier\\n      +- Aggregate [suburb_name#378], [suburb_name#378, sum(cast(urban_forest_%_contribution_to_sa2#706 as double)) AS sum(urban_forest_%_contribution_to_sa2)#729]\\n         +- Project [suburb_name#378, urban_forest_contribution_to_sa2#646, urban_forest_%_contribution_to_sa2#706]\\n            +- Project [suburb_name#378, sa2_area#501, urban_forest_contribution_to_sa2#646, urban_forest_%_contribution_to_sa2#706]\\n               +- Project [suburb_name#378, sa2_area#501, the_geom#334, urban_forest_contribution_to_sa2#646, urban_forest_%_contribution_to_sa2#706]\\n                  +- Project [poly#377, suburb_name#378, sa2_area#501, the_geom#334, urban_forest_contribution_to_sa2#646, get_veg_rate(poly#377, the_geom#334, sa2_area#501) AS urban_forest_%_contribution_to_sa2#706]\\n                     +- Project [poly#377, suburb_name#378, sa2_area#501, the_geom#334, urban_forest_contribution_to_sa2#646, get_veg_rate(poly#377, the_geom#334, sa2_area#501) AS urban_forest_%_contribution_to_sa2#689]\\n                        +- Project [poly#377, suburb_name#378, sa2_area#501, the_geom#334, get_veg_in_sa2(poly#377, the_geom#334) AS urban_forest_contribution_to_sa2#646]\\n                           +- Project [poly#377, suburb_name#378, sa2_area#501, the_geom#334, get_veg_in_sa2(poly#377, the_geom#334) AS urban_forest_contribution_to_sa2#630]\\n                              +- Project [poly#377, suburb_name#378, sa2_area#501, the_geom#334]\\n                                 +- Project [poly#377, suburb_name#378, sa2_area#501, the_geom#334, get_veg_rate(poly#377, the_geom#334) AS urban_forest_%_contribution_to_sa2#592]\\n                                    +- Project [poly#377, suburb_name#378, sa2_area#501, the_geom#334, get_veg_rate(poly#377, the_geom#334, sa2_area#501) AS urban_forest_%_contribution_to_sa2#546]\\n                                       +- Project [poly#377, suburb_name#378, sa2_area#501, the_geom#334, get_veg_rate(poly#377, the_geom#334, sa2_area#501) AS urban_forest_%_contribution_to_sa2#530]\\n                                          +- Project [poly#377, suburb_name#378, sa2_area#501, the_geom#334]\\n                                             +- Project [poly#377, suburb_name#378, sa2_area#501, the_geom#334, urban_forest_rect#392]\\n                                                +- Filter may_intersect(sa2_rect#396, urban_forest_rect#392)\\n                                                   +- Join Cross\\n                                                      :- Repartition 1, true\\n                                                      :  +- Project [poly#377, suburb_name#378, sa2_rect#396, get_area(poly#377) AS sa2_area#501]\\n                                                      :     +- Project [poly#377, suburb_name#378, sa2_rect#396, get_rect(poly#377) AS sa2_area#491]\\n                                                      :        +- Project [poly#377, suburb_name#378, sa2_rect#396, get_area(poly#377) AS sa2_area#481]\\n                                                      :           +- Project [poly#377, suburb_name#378, sa2_rect#396, get_area(poly#377) AS sa2_area#466]\\n                                                      :              +- Project [poly#377, suburb_name#378, sa2_rect#396, get_area(poly#377) AS sa2_area#443]\\n                                                      :                 +- Project [poly#377, suburb_name#378, sa2_rect#396]\\n                                                      :                    +- Project [poly#377, suburb_name#378, sa2_bound#384, get_rect(poly#377) AS sa2_rect#396]\\n                                                      :                       +- Project [poly#377, suburb_name#378, get_rect(poly#377) AS sa2_bound#384]\\n                                                      :                          +- Relation[poly#377,suburb_name#378] json\\n                                                      +- Repartition 10, true\\n                                                         +- Project [the_geom#334, urban_forest_rect#392]\\n                                                            +- Project [the_geom#334, urban_forest_bound#348, get_rect(the_geom#334) AS urban_forest_rect#392]\\n                                                               +- Project [the_geom#334, get_rect(the_geom#334) AS urban_forest_bound#348]\\n                                                                  +- Project [the_geom#334, get_rect(the_geom#334) AS urban_forest_bound#341]\\n                                                                     +- Project [the_geom#334]\\n                                                                        +- Project [area#101, new_geom#328 AS the_geom#334]\\n                                                                           +- Project [area#101, new_geom#328]\\n                                                                              +- Project [area#101, the_geom#102, insert_commas(the_geom#102) AS new_geom#328]\\n                                                                                 +- Relation[area#101,the_geom#102] csv\\n\""
     ]
    }
   ],
   "source": [
    "answer = suburban_vegetation_rate.groupBy('suburb_name').sum('urban_forest_%_contribution_to_sa2')\n",
    "answer.orderBy('urban_forest_%_contribution_to_sa2', ascending=False).show()"
   ]
  }
 ],
 "metadata": {
  "kernelspec": {
   "display_name": "conda_python3",
   "language": "python",
   "name": "conda_python3"
  }
 },
 "nbformat": 4,
 "nbformat_minor": 2
}
